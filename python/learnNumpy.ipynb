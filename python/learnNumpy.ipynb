{
 "cells": [
  {
   "cell_type": "code",
   "execution_count": 3,
   "id": "1f27f84a-6b88-4d80-932d-a386a2558379",
   "metadata": {},
   "outputs": [],
   "source": [
    "import numpy as np"
   ]
  },
  {
   "cell_type": "code",
   "execution_count": 4,
   "id": "2959081b-c3b5-4f59-8c2e-3e6fbcf58210",
   "metadata": {},
   "outputs": [],
   "source": [
    "a=np.array([1,2,3]) #declaration"
   ]
  },
  {
   "cell_type": "code",
   "execution_count": 6,
   "id": "a272c663-b3d4-426a-8e3a-97daaf9c9759",
   "metadata": {},
   "outputs": [
    {
     "name": "stdout",
     "output_type": "stream",
     "text": [
      "[1 2 3]\n"
     ]
    }
   ],
   "source": [
    "print(a) "
   ]
  },
  {
   "cell_type": "code",
   "execution_count": 8,
   "id": "8fd674ea-d1c3-4432-8a13-9e0e0968a609",
   "metadata": {},
   "outputs": [
    {
     "name": "stdout",
     "output_type": "stream",
     "text": [
      "(3,)\n"
     ]
    }
   ],
   "source": [
    "print(a.shape)#analysis says 1d 2d or 3d the shape of array"
   ]
  },
  {
   "cell_type": "code",
   "execution_count": 10,
   "id": "cc6f0a90-394c-4ad2-a8f6-a78dc5000741",
   "metadata": {},
   "outputs": [
    {
     "name": "stdout",
     "output_type": "stream",
     "text": [
      "int64\n"
     ]
    }
   ],
   "source": [
    "print(a.dtype)#data type of the array "
   ]
  },
  {
   "cell_type": "code",
   "execution_count": 12,
   "id": "30518d4f-4295-4b5d-bbd3-ee390db5b832",
   "metadata": {},
   "outputs": [
    {
     "name": "stdout",
     "output_type": "stream",
     "text": [
      "1\n"
     ]
    }
   ],
   "source": [
    "print(a.ndim)#dimension of the array"
   ]
  },
  {
   "cell_type": "code",
   "execution_count": 14,
   "id": "d20998f4-c02f-49e6-99a1-7de0d6af7bf9",
   "metadata": {},
   "outputs": [
    {
     "name": "stdout",
     "output_type": "stream",
     "text": [
      "3\n"
     ]
    }
   ],
   "source": [
    "print(a.size)#no. of elements in the array"
   ]
  },
  {
   "cell_type": "code",
   "execution_count": 16,
   "id": "029f9a12-b00d-49cd-a4c0-aaa773185948",
   "metadata": {},
   "outputs": [
    {
     "name": "stdout",
     "output_type": "stream",
     "text": [
      "8\n"
     ]
    }
   ],
   "source": [
    "print(a.itemsize)#bite size of each element"
   ]
  },
  {
   "cell_type": "code",
   "execution_count": 18,
   "id": "c1243738-1726-4d1f-ab0a-ac299d7e62a7",
   "metadata": {},
   "outputs": [
    {
     "name": "stdout",
     "output_type": "stream",
     "text": [
      "1\n"
     ]
    }
   ],
   "source": [
    "print(a[0])#access of each element"
   ]
  },
  {
   "cell_type": "code",
   "execution_count": 22,
   "id": "25015aae-4da7-449c-8138-8fcae5891d78",
   "metadata": {},
   "outputs": [
    {
     "name": "stdout",
     "output_type": "stream",
     "text": [
      "[2 0 6]\n"
     ]
    }
   ],
   "source": [
    "b=np.array([2,0,2])*a #array multiplications with same size \n",
    "print(b)"
   ]
  },
  {
   "cell_type": "code",
   "execution_count": 30,
   "id": "58e1dac9-866c-4041-a3b8-6fd3d64834a0",
   "metadata": {},
   "outputs": [
    {
     "name": "stdout",
     "output_type": "stream",
     "text": [
      "[1, 2, 3]\n",
      "[1 2 3]\n"
     ]
    }
   ],
   "source": [
    "#list vs arrays\n",
    "l=[1,2,3]\n",
    "a=np.array([1,2,3])\n",
    "print(l)\n",
    "print(a)\n",
    "#different type of representation "
   ]
  },
  {
   "cell_type": "code",
   "execution_count": 32,
   "id": "37491180-c97e-49be-afdc-e7d43198d4e6",
   "metadata": {},
   "outputs": [
    {
     "name": "stdout",
     "output_type": "stream",
     "text": [
      "[1, 2, 3, 4]\n"
     ]
    },
    {
     "ename": "AttributeError",
     "evalue": "'numpy.ndarray' object has no attribute 'append'",
     "output_type": "error",
     "traceback": [
      "\u001b[0;31m---------------------------------------------------------------------------\u001b[0m",
      "\u001b[0;31mAttributeError\u001b[0m                            Traceback (most recent call last)",
      "Cell \u001b[0;32mIn[32], line 3\u001b[0m\n\u001b[1;32m      1\u001b[0m l\u001b[38;5;241m.\u001b[39mappend(\u001b[38;5;241m4\u001b[39m)\n\u001b[1;32m      2\u001b[0m \u001b[38;5;28mprint\u001b[39m(l)\n\u001b[0;32m----> 3\u001b[0m a\u001b[38;5;241m.\u001b[39mappend(\u001b[38;5;241m4\u001b[39m)\n\u001b[1;32m      4\u001b[0m \u001b[38;5;28mprint\u001b[39m(a)\n",
      "\u001b[0;31mAttributeError\u001b[0m: 'numpy.ndarray' object has no attribute 'append'"
     ]
    }
   ],
   "source": [
    "l.append(4)\n",
    "print(l)\n",
    "a.append(4)#not possible in numpy\n",
    "print(a)"
   ]
  },
  {
   "cell_type": "code",
   "execution_count": 34,
   "id": "cccaa839-9a3f-47fd-b843-d6b5a63dfe11",
   "metadata": {},
   "outputs": [
    {
     "name": "stdout",
     "output_type": "stream",
     "text": [
      "[1, 2, 3, 4, 4]\n",
      "[5 6 7]\n"
     ]
    }
   ],
   "source": [
    "l=l+[4]\n",
    "print(l)\n",
    "a=a+np.array([4])#still does not append \n",
    "print(a)#instead adds 4 to each element "
   ]
  },
  {
   "cell_type": "code",
   "execution_count": 44,
   "id": "edb72985-8c72-498b-9951-e7c802ed0ac5",
   "metadata": {},
   "outputs": [
    {
     "name": "stdout",
     "output_type": "stream",
     "text": [
      "[1, 2, 3, 4, 4, 1, 2, 3, 4, 4, 1, 2, 3, 4, 4, 1, 2, 3, 4, 4, 1, 2, 3, 4, 4, 1, 2, 3, 4, 4, 1, 2, 3, 4, 4, 1, 2, 3, 4, 4, 1, 2, 3, 4, 4, 1, 2, 3, 4, 4, 1, 2, 3, 4, 4, 1, 2, 3, 4, 4, 1, 2, 3, 4, 4, 1, 2, 3, 4, 4, 1, 2, 3, 4, 4, 1, 2, 3, 4, 4, 1, 2, 3, 4, 4, 1, 2, 3, 4, 4, 1, 2, 3, 4, 4, 1, 2, 3, 4, 4, 1, 2, 3, 4, 4, 1, 2, 3, 4, 4, 1, 2, 3, 4, 4, 1, 2, 3, 4, 4, 1, 2, 3, 4, 4, 1, 2, 3, 4, 4, 1, 2, 3, 4, 4, 1, 2, 3, 4, 4, 1, 2, 3, 4, 4, 1, 2, 3, 4, 4, 1, 2, 3, 4, 4, 1, 2, 3, 4, 4]\n",
      "[ 80  96 112]\n"
     ]
    }
   ],
   "source": [
    "l=l*2\n",
    "print(l)#appends twice the same array to itself bellow its appended to many times due to reruns\n",
    "a=a*2\n",
    "print(a)#mulitplies 2 to each element "
   ]
  },
  {
   "cell_type": "code",
   "execution_count": 48,
   "id": "67a4568d-a567-432c-9cf2-d945764a8536",
   "metadata": {},
   "outputs": [
    {
     "name": "stdout",
     "output_type": "stream",
     "text": [
      "[ 8.94427191  9.79795897 10.58300524]\n"
     ]
    }
   ],
   "source": [
    "a=np.sqrt(a)\n",
    "print(a)\n"
   ]
  },
  {
   "cell_type": "code",
   "execution_count": 52,
   "id": "74517e2d-d55c-44c9-a0c0-bca39c02ddd7",
   "metadata": {},
   "outputs": [
    {
     "name": "stdout",
     "output_type": "stream",
     "text": [
      "32\n"
     ]
    }
   ],
   "source": [
    "#dot product of vectors\n",
    "#in lists\n",
    "l1=[1,2,3]\n",
    "l2=[4,5,6]\n",
    "dot=0\n",
    "for i in range(len(l1)):\n",
    "    dot+=l1[i]*l2[i]\n",
    "print(dot)"
   ]
  },
  {
   "cell_type": "code",
   "execution_count": 58,
   "id": "5a9f71c5-bf0d-4f2f-a5f0-cd5b0df1c20b",
   "metadata": {},
   "outputs": [
    {
     "name": "stdout",
     "output_type": "stream",
     "text": [
      "32\n",
      "32\n"
     ]
    }
   ],
   "source": [
    "#in numpy\n",
    "a1=np.array([1,2,3])\n",
    "a2=np.array([4,5,6])\n",
    "dot=np.dot(a1,a2)\n",
    "print(dot)\n",
    "dot=a1*a2#array mul\n",
    "dot=np.sum(dot)#sum after mult \n",
    "#or dot=(a1*a2).sum()\n",
    "#or dot=a1@a2\n",
    "print(dot)"
   ]
  },
  {
   "cell_type": "code",
   "execution_count": 60,
   "id": "30126d1c-a0d1-487c-a8a5-46c5234d51ce",
   "metadata": {},
   "outputs": [
    {
     "name": "stdout",
     "output_type": "stream",
     "text": [
      "32\n"
     ]
    }
   ],
   "source": [
    "dot=a1@a2\n",
    "print(dot)"
   ]
  },
  {
   "cell_type": "code",
   "execution_count": 66,
   "id": "c17319fa-d261-4038-8813-90c901aff8e7",
   "metadata": {},
   "outputs": [
    {
     "name": "stdout",
     "output_type": "stream",
     "text": [
      "(2, 3)\n"
     ]
    }
   ],
   "source": [
    "#multi dimensional list\n",
    "a=np.array([[1,2,3],[4,5,6]])\n",
    "print(a.shape) #2x3 matrix"
   ]
  },
  {
   "cell_type": "code",
   "execution_count": 68,
   "id": "a30ff4a1-9540-4318-ab9b-4d358da4c8e2",
   "metadata": {},
   "outputs": [
    {
     "name": "stdout",
     "output_type": "stream",
     "text": [
      "[1 2 3]\n",
      "1\n",
      "1\n"
     ]
    }
   ],
   "source": [
    "print(a[0])#first row\n",
    "print(a[0][0])#first row first col\n",
    "print(a[0,0])"
   ]
  },
  {
   "cell_type": "code",
   "execution_count": 70,
   "id": "26aa2567-cf1a-4469-b8e5-6037f1964bf5",
   "metadata": {},
   "outputs": [
    {
     "name": "stdout",
     "output_type": "stream",
     "text": [
      "[1 4]\n"
     ]
    }
   ],
   "source": [
    "print(a[:,0])\n",
    "#print column"
   ]
  },
  {
   "cell_type": "code",
   "execution_count": 74,
   "id": "df68f316-d9b4-4d9a-b634-796ad2eab806",
   "metadata": {},
   "outputs": [
    {
     "name": "stdout",
     "output_type": "stream",
     "text": [
      "[[1 4]\n",
      " [2 5]\n",
      " [3 6]]\n"
     ]
    }
   ],
   "source": [
    "#transpose\n",
    "print(a.T)"
   ]
  },
  {
   "cell_type": "code",
   "execution_count": 78,
   "id": "40731bd4-f720-4fcc-b000-8bffdafd9e37",
   "metadata": {},
   "outputs": [
    {
     "name": "stdout",
     "output_type": "stream",
     "text": [
      "[[ 3.15251974e+15 -6.30503948e+15  3.15251974e+15]\n",
      " [-6.30503948e+15  1.26100790e+16 -6.30503948e+15]\n",
      " [ 3.15251974e+15 -6.30503948e+15  3.15251974e+15]]\n",
      "[[-2.   1. ]\n",
      " [ 1.5 -0.5]]\n"
     ]
    }
   ],
   "source": [
    "#inverse only square matrix\n",
    "a=np.array([[1,2,3],[4,5,6],[7,8,9]])\n",
    "print(np.linalg.inv(a))\n",
    "a=np.array([[1,2],[3,4]])\n",
    "print(np.linalg.inv(a))"
   ]
  },
  {
   "cell_type": "code",
   "execution_count": 80,
   "id": "4e622514-9683-4a6e-80ce-598134219f71",
   "metadata": {},
   "outputs": [
    {
     "name": "stdout",
     "output_type": "stream",
     "text": [
      "-2.0000000000000004\n"
     ]
    }
   ],
   "source": [
    "print(np.linalg.det(a))\n",
    "#determinant"
   ]
  },
  {
   "cell_type": "code",
   "execution_count": 86,
   "id": "46cf0c57-3576-4825-b0f9-a63cc0534966",
   "metadata": {},
   "outputs": [
    {
     "name": "stdout",
     "output_type": "stream",
     "text": [
      "[1 4]\n",
      "[[1 0]\n",
      " [0 4]]\n"
     ]
    }
   ],
   "source": [
    "#diagonal matrix \n",
    "print(np.diag(a))#this is a diagonal vector\n",
    "c=np.diag(a)\n",
    "print(np.diag(c))#will give a daigonal matrix with elemnts fromt the vector "
   ]
  },
  {
   "cell_type": "code",
   "execution_count": 88,
   "id": "7b8178fc-f770-4b5e-b507-5368f4409c28",
   "metadata": {},
   "outputs": [
    {
     "name": "stdout",
     "output_type": "stream",
     "text": [
      "2\n"
     ]
    }
   ],
   "source": [
    "#slicing \n",
    "a=np.array([[1,2],[3,4]])\n",
    "b=a[0,1]#first row sec col\n",
    "print(b)"
   ]
  },
  {
   "cell_type": "code",
   "execution_count": 90,
   "id": "661db415-1d65-4fd9-9fdb-d4a766ae3d11",
   "metadata": {},
   "outputs": [
    {
     "name": "stdout",
     "output_type": "stream",
     "text": [
      "[1 2 3 4]\n"
     ]
    }
   ],
   "source": [
    "a=np.array([[1,2,3,4],[5,6,7,8]])\n",
    "b=a[0,:]\n",
    "print(b)#only first row"
   ]
  },
  {
   "cell_type": "code",
   "execution_count": 92,
   "id": "f5b8dea9-4eb4-4075-a705-76c639c499b7",
   "metadata": {},
   "outputs": [
    {
     "name": "stdout",
     "output_type": "stream",
     "text": [
      "[2 6]\n"
     ]
    }
   ],
   "source": [
    "b=a[:,1]\n",
    "print(b)#only second column"
   ]
  },
  {
   "cell_type": "code",
   "execution_count": 94,
   "id": "d8d97ba8-c747-4389-9ac1-b84741f96701",
   "metadata": {},
   "outputs": [
    {
     "name": "stdout",
     "output_type": "stream",
     "text": [
      "8\n"
     ]
    }
   ],
   "source": [
    "b=a[-1,-1]\n",
    "print(b)#last row last column"
   ]
  },
  {
   "cell_type": "code",
   "execution_count": 100,
   "id": "e7e219e9-bead-46b4-8409-d5df23aaf060",
   "metadata": {},
   "outputs": [
    {
     "name": "stdout",
     "output_type": "stream",
     "text": [
      "[10 19 30 41  5  6]\n",
      "[10 30  6]\n"
     ]
    }
   ],
   "source": [
    "a=np.array([10,19,30,41,5,6])\n",
    "print(a)\n",
    "even=np.argwhere(a%2==0).flatten()#finds indices of even elements \n",
    "print(a[even])#print even elements"
   ]
  },
  {
   "cell_type": "code",
   "execution_count": 7,
   "id": "cee460d7-9d75-4684-946d-14df04d08490",
   "metadata": {},
   "outputs": [
    {
     "name": "stdout",
     "output_type": "stream",
     "text": [
      "[1 2 3 4 5 6]\n",
      "(6,)\n",
      "[[1 2 3]\n",
      " [4 5 6]]\n"
     ]
    }
   ],
   "source": [
    "#reshaping\n",
    "a=np.arange(1,7)\n",
    "print(a)\n",
    "print(a.shape)\n",
    "b=a.reshape((2,3))\n",
    "print(b)"
   ]
  },
  {
   "cell_type": "code",
   "execution_count": 11,
   "id": "6bc5590a-cd2f-4959-a92d-013c1eafe404",
   "metadata": {},
   "outputs": [
    {
     "name": "stdout",
     "output_type": "stream",
     "text": [
      "[1 2 3 4 5 6]\n",
      "(6,)\n",
      "[[1 2 3 4 5 6]]\n",
      "(1, 6)\n",
      "[[1]\n",
      " [2]\n",
      " [3]\n",
      " [4]\n",
      " [5]\n",
      " [6]]\n",
      "(6, 1)\n"
     ]
    }
   ],
   "source": [
    "a=np.arange(1,7)\n",
    "print(a)\n",
    "print(a.shape)\n",
    "b=a[np.newaxis,:]\n",
    "print(b)\n",
    "print(b.shape)\n",
    "c=a[:,np.newaxis]\n",
    "print(c)\n",
    "print(c.shape)"
   ]
  },
  {
   "cell_type": "code",
   "execution_count": 17,
   "id": "ec0f47dd-6862-4de5-a9fe-1825d63115bf",
   "metadata": {},
   "outputs": [
    {
     "name": "stdout",
     "output_type": "stream",
     "text": [
      "[[1 2]\n",
      " [3 4]]\n",
      "[[1 2]\n",
      " [3 4]\n",
      " [5 6]]\n"
     ]
    }
   ],
   "source": [
    "#concatenation\n",
    "a=np.array([[1,2],[3,4]])\n",
    "print(a)\n",
    "b=np.array([[5,6]])\n",
    "c=np.concatenate((a,b),axis=0)#or axis=None\n",
    "print(c)"
   ]
  },
  {
   "cell_type": "code",
   "execution_count": 19,
   "id": "0841c26e-2f64-4199-bcef-4f5152783692",
   "metadata": {},
   "outputs": [
    {
     "name": "stdout",
     "output_type": "stream",
     "text": [
      "[[1 2 5]\n",
      " [3 4 6]]\n"
     ]
    }
   ],
   "source": [
    "c=np.concatenate((a,b.T),axis=1)\n",
    "print(c)"
   ]
  },
  {
   "cell_type": "code",
   "execution_count": 21,
   "id": "eae3a8ff-58dd-47db-a73c-45fa549d0fcb",
   "metadata": {},
   "outputs": [
    {
     "name": "stdout",
     "output_type": "stream",
     "text": [
      "[1 2 3 4 6 7 8 9]\n",
      "[[1 2 3 4]\n",
      " [6 7 8 9]]\n"
     ]
    }
   ],
   "source": [
    "a=np.array([1,2,3,4])\n",
    "b=np.array([6,7,8,9])\n",
    "c=np.hstack((a,b))#horizontal stack\n",
    "print(c)\n",
    "d=np.vstack((a,b))#vertical stack\n",
    "print(d)"
   ]
  },
  {
   "cell_type": "code",
   "execution_count": 23,
   "id": "bedac65a-0aac-4ba0-8d8b-07101837fb05",
   "metadata": {},
   "outputs": [
    {
     "name": "stdout",
     "output_type": "stream",
     "text": [
      "[[2 2 4]\n",
      " [5 5 7]\n",
      " [2 2 4]\n",
      " [5 5 7]]\n"
     ]
    }
   ],
   "source": [
    "#broadcasting\n",
    "x=np.array([[1,2,3],[4,5,6],[1,2,3],[4,5,6]])\n",
    "a=np.array([1,0,1])\n",
    "y=x+a#adding this to all the rows to each corresponding element\n",
    "print(y)"
   ]
  },
  {
   "cell_type": "code",
   "execution_count": 33,
   "id": "3172abd4-a167-4070-aaf7-537494c59eed",
   "metadata": {},
   "outputs": [
    {
     "name": "stdout",
     "output_type": "stream",
     "text": [
      "[[ 7  8  9 10 11 12 13]\n",
      " [17 18 19 20 21 22 23]]\n",
      "[ 70 140]\n",
      "[12. 13. 14. 15. 16. 17. 18.]\n",
      "5.385164807134504\n",
      "[ 7 17]\n"
     ]
    }
   ],
   "source": [
    "#functions and axis\n",
    "a=np.array([[7,8,9,10,11,12,13],[17,18,19,20,21,22,23]])\n",
    "print(a)\n",
    "print(a.sum(axis=1))\n",
    "print(a.mean(axis=0))\n",
    "print(a.std(axis=None))\n",
    "print(a.min(axis=1))"
   ]
  },
  {
   "cell_type": "code",
   "execution_count": 5,
   "id": "b1976187-8663-4b83-ae17-bd21866218a8",
   "metadata": {
    "scrolled": true
   },
   "outputs": [
    {
     "name": "stdout",
     "output_type": "stream",
     "text": [
      "[[0. 0. 0.]\n",
      " [0. 0. 0.]]\n",
      "[[1. 1. 1.]\n",
      " [1. 1. 1.]]\n",
      "[[5. 5. 5.]\n",
      " [5. 5. 5.]]\n",
      "[[1. 0. 0.]\n",
      " [0. 1. 0.]\n",
      " [0. 0. 1.]]\n",
      "[ 0  1  2  3  4  5  6  7  8  9 10 11 12 13 14 15 16 17 18 19]\n",
      "[ 0.   2.5  5.   7.5 10. ]\n"
     ]
    }
   ],
   "source": [
    "#generating arrays\n",
    "a=np.zeros((2,3))\n",
    "print(a)\n",
    "a=np.ones((2,3))\n",
    "print(a)\n",
    "a=np.full((2,3),5.0)\n",
    "print(a)\n",
    "a=np.eye(3)\n",
    "print(a)\n",
    "a=np.arange(20)\n",
    "print(a)\n",
    "a=np.linspace(0,10,5)\n",
    "print(a)"
   ]
  },
  {
   "cell_type": "code",
   "execution_count": 55,
   "id": "b4eeb88e-d216-4eea-8767-e4fd710f1a78",
   "metadata": {},
   "outputs": [
    {
     "name": "stdout",
     "output_type": "stream",
     "text": [
      "[[0.94561888 0.47561663]\n",
      " [0.03357327 0.7941715 ]\n",
      " [0.58338709 0.10492589]]\n",
      "[[-0.77784448  1.71731917]\n",
      " [ 0.19014704  1.00895613]\n",
      " [ 1.59900199 -2.53888681]]\n",
      "0.19978217132817586\n",
      "2.2286086027121192\n",
      "[[3 8 9]\n",
      " [8 5 3]\n",
      " [6 5 3]]\n",
      "[-8 -8 -7 -7 -8 -6 -8 -6 -6 -6]\n"
     ]
    }
   ],
   "source": [
    "#generating random arrays\n",
    "a= np.random.random((3,2))#0-1\n",
    "print(a)\n",
    "a=np.random.randn(3,2)#normal/gaussian\n",
    "print(a)\n",
    "print(a.mean())\n",
    "print(a.var())\n",
    "a=np.random.randint(3,10,size=(3,3))\n",
    "print(a)\n",
    "a=np.random.choice((-8,-7,-6),size=10)\n",
    "print(a)"
   ]
  },
  {
   "cell_type": "code",
   "execution_count": 59,
   "id": "5dec0a2d-8c79-43e5-afdc-66c6d4ec0532",
   "metadata": {},
   "outputs": [
    {
     "name": "stdout",
     "output_type": "stream",
     "text": [
      "[-0.37228132  5.37228132]\n",
      "[[-0.82456484 -0.41597356]\n",
      " [ 0.56576746 -0.90937671]]\n",
      "[ 0.30697009 -0.21062466]\n",
      "[ 0.30697009 -0.21062466]\n"
     ]
    }
   ],
   "source": [
    "#linear algebra\n",
    "a=np.array([[1,2],[3,4]])\n",
    "eigenvalues,eigenvectors= np.linalg.eig(a)\n",
    "print(eigenvalues)\n",
    "print(eigenvectors)#column vector\n",
    "#e_vec * e_val =A*e_vec\n",
    "b=eigenvectors[:,0]*eigenvalues[0]\n",
    "print(b)\n",
    "b=a@eigenvectors[:,0]\n",
    "print(b)"
   ]
  },
  {
   "cell_type": "code",
   "execution_count": 63,
   "id": "7ad83ad2-5b7c-4037-bdbf-17af2f950629",
   "metadata": {},
   "outputs": [
    {
     "name": "stdout",
     "output_type": "stream",
     "text": [
      "[1500.  700.]\n"
     ]
    }
   ],
   "source": [
    "#solving linear systems \n",
    "#x1+x2=2200\n",
    "#1.5x1 +4x2=5050\n",
    "#x=[x1 x2] A=([1 1],[1.5 4]) b=[2200 5050] x= A^-1 B\n",
    "A=np.array([[1,1],[1.5,4.0]])\n",
    "b=np.array([2200,5050])\n",
    "x=np.linalg.inv(A).dot(b)\n",
    "print(x)"
   ]
  },
  {
   "cell_type": "code",
   "execution_count": null,
   "id": "5061122a-54a5-4f1e-b5f3-f856b3aaa2bd",
   "metadata": {},
   "outputs": [],
   "source": [
    "#import csv files\n",
    "#np.loadtxt\n",
    "#np.genfromtxt\n",
    "data=np.loadtxt('file.csv', delimeter=\",\",dtype=np.float32)"
   ]
  }
 ],
 "metadata": {
  "kernelspec": {
   "display_name": "Python [conda env:base] *",
   "language": "python",
   "name": "conda-base-py"
  },
  "language_info": {
   "codemirror_mode": {
    "name": "ipython",
    "version": 3
   },
   "file_extension": ".py",
   "mimetype": "text/x-python",
   "name": "python",
   "nbconvert_exporter": "python",
   "pygments_lexer": "ipython3",
   "version": "3.12.7"
  }
 },
 "nbformat": 4,
 "nbformat_minor": 5
}
