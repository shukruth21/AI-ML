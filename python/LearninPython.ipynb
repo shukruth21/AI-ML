{
 "cells": [
  {
   "cell_type": "code",
   "execution_count": 3,
   "id": "c0a9f97a-562d-44fb-8eff-c0e6542f8050",
   "metadata": {},
   "outputs": [],
   "source": [
    "#vairiables\n",
    "myFirstVariable=1\n",
    "mySecondVariable=2\n",
    "myFirstVariable=\"hello you\"\n"
   ]
  },
  {
   "cell_type": "code",
   "execution_count": 7,
   "id": "7efb52cf-063a-4873-b527-e93990df1eaf",
   "metadata": {},
   "outputs": [],
   "source": [
    "#numeric\n",
    "value=1 #integer\n",
    "value=1.2 #floating point"
   ]
  },
  {
   "cell_type": "code",
   "execution_count": 9,
   "id": "58826720-4f08-4335-9616-88f92d6daa42",
   "metadata": {},
   "outputs": [],
   "source": [
    "#strings\n",
    "name='shukruth'\n",
    "name=\"shukruth\"\n",
    "name=\"\"\"shukruth\"\"\"\n",
    "#strings are immutable \n",
    "#a='me' a[1]=y will give you error "
   ]
  },
  {
   "cell_type": "code",
   "execution_count": 11,
   "id": "0e7a1028-6718-4705-941e-5f49e2c1353e",
   "metadata": {},
   "outputs": [
    {
     "ename": "NameError",
     "evalue": "name 'testMode' is not defined",
     "output_type": "error",
     "traceback": [
      "\u001b[0;31m---------------------------------------------------------------------------\u001b[0m",
      "\u001b[0;31mNameError\u001b[0m                                 Traceback (most recent call last)",
      "Cell \u001b[0;32mIn[11], line 3\u001b[0m\n\u001b[1;32m      1\u001b[0m \u001b[38;5;28;01mdef\u001b[39;00m \u001b[38;5;21msome_function\u001b[39m():\n\u001b[1;32m      2\u001b[0m     testMode\u001b[38;5;241m=\u001b[39m\u001b[38;5;28;01mFalse\u001b[39;00m\n\u001b[0;32m----> 3\u001b[0m \u001b[38;5;28mprint\u001b[39m(testMode)\n",
      "\u001b[0;31mNameError\u001b[0m: name 'testMode' is not defined"
     ]
    }
   ],
   "source": [
    "#local scope \n",
    "def some_function():\n",
    "    testMode=False\n",
    "    \n",
    "print(testMode)#breaks as the variable does not exist outside "
   ]
  },
  {
   "cell_type": "code",
   "execution_count": 13,
   "id": "d76af319-07e7-488b-a345-f1e23863d708",
   "metadata": {},
   "outputs": [
    {
     "name": "stdout",
     "output_type": "stream",
     "text": [
      "inside loop\n"
     ]
    }
   ],
   "source": [
    "#in python if-else and for/while loops does not create local scope \n",
    "for i in range(1,11):\n",
    "    test_scope=\"inside loop\"\n",
    "print(test_scope)"
   ]
  },
  {
   "cell_type": "code",
   "execution_count": 15,
   "id": "76bcbfce-21cb-4b9d-85f7-229146a55b76",
   "metadata": {},
   "outputs": [
    {
     "name": "stdout",
     "output_type": "stream",
     "text": [
      "Python is awesome\n"
     ]
    }
   ],
   "source": [
    "is_python_awesome = True\n",
    "if is_python_awesome:\n",
    "    test_scope = \"Python is awesome\"\n",
    "print(test_scope)"
   ]
  },
  {
   "cell_type": "code",
   "execution_count": 17,
   "id": "69435225-d353-45ae-8b70-436517bcca58",
   "metadata": {},
   "outputs": [
    {
     "name": "stdout",
     "output_type": "stream",
     "text": [
      "False\n"
     ]
    }
   ],
   "source": [
    "#global scope variables can be accessed from any function \n",
    "TestMode = True\n",
    "def some_function():\n",
    "  global TestMode\n",
    "  TestMode = False\n",
    "some_function()\n",
    "\n",
    "print(TestMode) #Returns False"
   ]
  },
  {
   "cell_type": "code",
   "execution_count": 19,
   "id": "beb84847-868c-4832-9255-8383c5190bf9",
   "metadata": {},
   "outputs": [
    {
     "data": {
      "text/plain": [
       "str"
      ]
     },
     "execution_count": 19,
     "metadata": {},
     "output_type": "execute_result"
    }
   ],
   "source": [
    "#finding varibale type \n",
    "name='shukruth'\n",
    "type(name)"
   ]
  },
  {
   "cell_type": "code",
   "execution_count": 25,
   "id": "8840f9e9-2789-4907-87cf-83ea55102622",
   "metadata": {},
   "outputs": [
    {
     "data": {
      "text/plain": [
       "0"
      ]
     },
     "execution_count": 25,
     "metadata": {},
     "output_type": "execute_result"
    }
   ],
   "source": [
    "#operations\n",
    "1//3 #returns 0"
   ]
  },
  {
   "cell_type": "code",
   "execution_count": 27,
   "id": "8c844929-3349-4cbf-93f3-4d0de6b79f5a",
   "metadata": {},
   "outputs": [
    {
     "data": {
      "text/plain": [
       "0.3333333333333333"
      ]
     },
     "execution_count": 27,
     "metadata": {},
     "output_type": "execute_result"
    }
   ],
   "source": [
    "1/3 #return 0.333\n"
   ]
  },
  {
   "cell_type": "code",
   "execution_count": 29,
   "id": "67dc6bbc-96bd-4eb4-a902-8443c83a48bb",
   "metadata": {},
   "outputs": [
    {
     "name": "stdout",
     "output_type": "stream",
     "text": [
      "<class 'float'>\n"
     ]
    }
   ],
   "source": [
    "#return type of division is always float\n",
    "a=10/5\n",
    "print(type(a))"
   ]
  },
  {
   "cell_type": "code",
   "execution_count": 31,
   "id": "c9dab4d7-371c-4776-b00a-d22abe310900",
   "metadata": {},
   "outputs": [
    {
     "data": {
      "text/plain": [
       "8"
      ]
     },
     "execution_count": 31,
     "metadata": {},
     "output_type": "execute_result"
    }
   ],
   "source": [
    "#power\n",
    "2**3"
   ]
  },
  {
   "cell_type": "code",
   "execution_count": 33,
   "id": "008b34e2-83b3-40e1-87de-3ef4fa337b1a",
   "metadata": {},
   "outputs": [
    {
     "data": {
      "text/plain": [
       "1"
      ]
     },
     "execution_count": 33,
     "metadata": {},
     "output_type": "execute_result"
    }
   ],
   "source": [
    "#modulus\n",
    "7%2"
   ]
  },
  {
   "cell_type": "code",
   "execution_count": 35,
   "id": "5f216ac8-625b-43b7-901e-4ced8c8333da",
   "metadata": {},
   "outputs": [],
   "source": [
    "#string operations"
   ]
  },
  {
   "cell_type": "code",
   "execution_count": 37,
   "id": "0d43927e-ee59-449f-afd8-3414a0a85334",
   "metadata": {},
   "outputs": [
    {
     "data": {
      "text/plain": [
       "'ab'"
      ]
     },
     "execution_count": 37,
     "metadata": {},
     "output_type": "execute_result"
    }
   ],
   "source": [
    "'a'+'b'"
   ]
  },
  {
   "cell_type": "code",
   "execution_count": 39,
   "id": "2628060e-f985-45b0-8532-4ccab68b17b4",
   "metadata": {},
   "outputs": [
    {
     "data": {
      "text/plain": [
       "'aaa'"
      ]
     },
     "execution_count": 39,
     "metadata": {},
     "output_type": "execute_result"
    }
   ],
   "source": [
    "'a'*3"
   ]
  },
  {
   "cell_type": "code",
   "execution_count": 41,
   "id": "91332c08-7a15-4f87-8800-cb43d3dda31a",
   "metadata": {},
   "outputs": [
    {
     "name": "stdout",
     "output_type": "stream",
     "text": [
      "ab\n",
      "bc\n",
      "a\n",
      "bc\n"
     ]
    }
   ],
   "source": [
    "#slicing\n",
    "y='abc'\n",
    "print(y[:2])\n",
    "print(y[1:])\n",
    "print(y[:-2])\n",
    "print(y[-2:])"
   ]
  },
  {
   "cell_type": "code",
   "execution_count": 45,
   "id": "6626f6e9-54cb-44b6-a5b8-b1c131fbdb3b",
   "metadata": {},
   "outputs": [
    {
     "name": "stdout",
     "output_type": "stream",
     "text": [
      "cba\n"
     ]
    }
   ],
   "source": [
    "#reversing\n",
    "x='abc'\n",
    "x=x[::-1]\n",
    "print(x)"
   ]
  },
  {
   "cell_type": "code",
   "execution_count": 49,
   "id": "6f2e5a70-eb50-4c05-a51c-29fd9a36d530",
   "metadata": {},
   "outputs": [
    {
     "name": "stdout",
     "output_type": "stream",
     "text": [
      "2\n",
      "4\n"
     ]
    }
   ],
   "source": [
    "#finding indexes\n",
    "name = 'farhad'\n",
    "index = name.find('r')\n",
    "print(index)\n",
    "#returns 2\n",
    "name = 'farhad'\n",
    "index = name.find('a', 2) # finds index of second a\n",
    "print(index)\n",
    "#returns 4"
   ]
  },
  {
   "cell_type": "code",
   "execution_count": 51,
   "id": "d28dfbb1-a08c-458c-a9da-79b252516d0e",
   "metadata": {},
   "outputs": [],
   "source": [
    "#for regex use:\n",
    "#split(): splits a string into a list via regex\n",
    "#sub(): replaces matched string via regex\n",
    "#subn(): replaces matched string via regex and returns number of replacements"
   ]
  },
  {
   "cell_type": "code",
   "execution_count": 53,
   "id": "61de016a-c286-4a8e-a4a2-40ff1a115354",
   "metadata": {},
   "outputs": [],
   "source": [
    "#casting\n",
    "#str(x): To string\n",
    "#int(x): To integer\n",
    "#float(x): To floats"
   ]
  },
  {
   "cell_type": "code",
   "execution_count": 55,
   "id": "4a92a04b-4912-4f5c-8105-fd9354b4ee0b",
   "metadata": {},
   "outputs": [
    {
     "name": "stdout",
     "output_type": "stream",
     "text": [
      "{1, 2, 3, 5, 8, 9, -1}\n"
     ]
    }
   ],
   "source": [
    "#set is an unordered data collection without any duplicates \n",
    "set = {9,1,-1,5,2,8,3, 8}\n",
    "print(set)"
   ]
  },
  {
   "cell_type": "code",
   "execution_count": 57,
   "id": "586b8af7-2413-427c-9c83-a5e81cd1a5f3",
   "metadata": {},
   "outputs": [],
   "source": [
    "#set operations\n",
    "#set.add(item) — adds item to the set\n",
    "#set.remove(item) — removes item from the set and raises error if it is not present\n",
    "#set.discard(item) — removes item from the set if it is present\n",
    "#set.pop() — returns any item from the set, raises KeyError if the set is empty\n",
    "#set.clear() clears the set\n"
   ]
  },
  {
   "cell_type": "code",
   "execution_count": 61,
   "id": "3ce12938-4076-4d1e-84b8-b929f1eca721",
   "metadata": {},
   "outputs": [
    {
     "name": "stdout",
     "output_type": "stream",
     "text": [
      "{3}\n"
     ]
    }
   ],
   "source": [
    "#intersection of sets\n",
    "a = {1,2,3}\n",
    "b = {3,4,5}\n",
    "c = a.intersection(b)\n",
    "print(c)"
   ]
  },
  {
   "cell_type": "code",
   "execution_count": 65,
   "id": "4228b8d4-51e7-4d5c-8ed9-88fb5a3f0157",
   "metadata": {},
   "outputs": [
    {
     "name": "stdout",
     "output_type": "stream",
     "text": [
      "{1, 2}\n"
     ]
    }
   ],
   "source": [
    "#difference \n",
    "a = {1,2,3}\n",
    "b = {3,4,5}\n",
    "c = a.difference(b)\n",
    "print(c)"
   ]
  },
  {
   "cell_type": "code",
   "execution_count": 67,
   "id": "c0844ba7-7a99-4f9d-ab92-51f6893133de",
   "metadata": {},
   "outputs": [],
   "source": [
    "#ternary operator  [If True] if [Expression] Else [If False]\n",
    "Received = True if x == 'Yes' else False\n"
   ]
  },
  {
   "cell_type": "code",
   "execution_count": 69,
   "id": "44a7af2c-3e5c-4591-936c-5fe29ff2718d",
   "metadata": {},
   "outputs": [
    {
     "name": "stdout",
     "output_type": "stream",
     "text": [
      "hello\n"
     ]
    }
   ],
   "source": [
    "#functions\n",
    "def some_function():\n",
    "    print('hello')\n",
    "some_function() #func call\n"
   ]
  },
  {
   "cell_type": "code",
   "execution_count": 71,
   "id": "5327012d-ef58-4af7-a11a-7dde7cd73479",
   "metadata": {},
   "outputs": [
    {
     "name": "stdout",
     "output_type": "stream",
     "text": [
      "5\n"
     ]
    }
   ],
   "source": [
    "#length\n",
    "print(len('hello'))"
   ]
  },
  {
   "cell_type": "code",
   "execution_count": 75,
   "id": "db80b2dd-6571-440d-ac66-e70d118f3f2b",
   "metadata": {},
   "outputs": [
    {
     "name": "stdout",
     "output_type": "stream",
     "text": [
      "a is different\n"
     ]
    }
   ],
   "source": [
    "#conditions\n",
    "if a == b:\n",
    "  print( 'a is b')\n",
    "elif a < b:\n",
    "  print ('a is less than b')\n",
    "elif a > b:\n",
    "  print ('a  is greater than b')\n",
    "else:\n",
    "  print ('a is different')"
   ]
  },
  {
   "cell_type": "code",
   "execution_count": 79,
   "id": "6f32ade2-97a1-43e2-818c-e3bce280ca46",
   "metadata": {},
   "outputs": [],
   "source": [
    "#while\n",
    "#while (input < 0):\n",
    "# do_something(input)\n",
    "# input = input-1"
   ]
  },
  {
   "cell_type": "code",
   "execution_count": 81,
   "id": "c78a9f2d-f920-44bd-9451-fa1a38e29778",
   "metadata": {},
   "outputs": [],
   "source": [
    "#for\n",
    "#for  i in range(0,10)\n"
   ]
  },
  {
   "cell_type": "code",
   "execution_count": 85,
   "id": "a0a7657a-13bc-4ce4-b835-f7e7e1e0cf7a",
   "metadata": {},
   "outputs": [],
   "source": [
    "#break\n",
    "for i in range(0,10):\n",
    " if (i==5):\n",
    "   break\n",
    "\n"
   ]
  },
  {
   "cell_type": "code",
   "execution_count": 87,
   "id": "127cfb8f-f8d6-4728-b70d-ddb7299f9468",
   "metadata": {},
   "outputs": [],
   "source": [
    "#collections"
   ]
  },
  {
   "cell_type": "code",
   "execution_count": 99,
   "id": "3cb6241f-0290-488e-8fb3-c93acf456835",
   "metadata": {},
   "outputs": [],
   "source": [
    "#lists holds sequence of values of any data types they are mutable \n",
    "my_list=['a','b']\n",
    "my_list.append('C') #adds at the end\n",
    "my_list[1] = 'D' #update\n",
    "my_list.pop(1) # removes\n",
    "\n",
    "del my_list[1:2] # removes\n",
    "#my_list.extend(another_list) # adds second list at end\n",
    "my_list.sort() #this is inplace sort"
   ]
  },
  {
   "cell_type": "code",
   "execution_count": 101,
   "id": "99e061cf-a8f0-4268-ac6a-e7eb21bb38e7",
   "metadata": {},
   "outputs": [],
   "source": [
    "#tuples same but faster than lists immutable\n",
    "#my_tuple = tuple()\n",
    "#or\n",
    "#my_tuple = 'f','m'\n",
    "#or\n",
    "#my_tuple = ('f', 'm')"
   ]
  },
  {
   "cell_type": "code",
   "execution_count": null,
   "id": "39914016-16e8-45c8-ad5a-fae78b8238be",
   "metadata": {},
   "outputs": [],
   "source": []
  }
 ],
 "metadata": {
  "kernelspec": {
   "display_name": "Python [conda env:base] *",
   "language": "python",
   "name": "conda-base-py"
  },
  "language_info": {
   "codemirror_mode": {
    "name": "ipython",
    "version": 3
   },
   "file_extension": ".py",
   "mimetype": "text/x-python",
   "name": "python",
   "nbconvert_exporter": "python",
   "pygments_lexer": "ipython3",
   "version": "3.12.7"
  }
 },
 "nbformat": 4,
 "nbformat_minor": 5
}
